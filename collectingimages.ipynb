{
 "cells": [
  {
   "cell_type": "code",
   "execution_count": 2,
   "id": "f70e13ab",
   "metadata": {},
   "outputs": [],
   "source": [
    "import os\n",
    "import cv2\n",
    "import time\n",
    "import uuid # generating unique identifiers based on the characteristics of the underlying system, such as the current timestamp, hardware address, and a random component."
   ]
  },
  {
   "cell_type": "code",
   "execution_count": 11,
   "id": "40cac42f",
   "metadata": {},
   "outputs": [
    {
     "name": "stdout",
     "output_type": "stream",
     "text": [
      "Python version: 3.11.4 | packaged by Anaconda, Inc. | (main, Jul  5 2023, 13:38:37) [MSC v.1916 64 bit (AMD64)]\n"
     ]
    }
   ],
   "source": [
    "\n",
    "\n",
    "\n",
    "\n"
   ]
  },
  {
   "cell_type": "code",
   "execution_count": 6,
   "id": "9770504b",
   "metadata": {},
   "outputs": [],
   "source": [
    "IMAGES_PATH = \"./collectedimages\"\n",
    "# name of labels of images\n",
    "labels = ['hello','howareyou','vaibhav']\n"
   ]
  },
  {
   "cell_type": "markdown",
   "id": "9b0abada",
   "metadata": {},
   "source": [
    "# Collecting images from a webcam for sign language detection.\n",
    " \n",
    "## !mkdir{\"C:\\Users\\91701\\data\\project\\SignLanguageDetection\\asl_dataset\" + label}:  \n",
    "This line is creating a directory (using the mkdir command) based on the current label. The exclamation mark (!) is used to run shell commands from within a Python script. It's creating a directory with the path C:\\Users\\91701\\data\\project\\SignLanguageDetection\\asl_dataset followed by the current label.\n",
    "\n",
    "## cap = cv2.VideoCapture(0): \n",
    "This line initializes a video capture object using OpenCV, capturing video from the default camera (camera index 0).\n",
    "\n",
    "## time.sleep(5): \n",
    "This pauses the script for 5 seconds, possibly to give the user some time to get ready before the webcam starts capturing images.\n",
    "\n",
    "## The inner loop (for imgnum in range(50):) runs 50 times, capturing images in the following steps:\n",
    "\n",
    "    print('Collecting image {}'.format(imgnum)): Prints a message indicating the current image being collected.\n",
    "\n",
    "    ret, frame = cap.read(): Reads a frame from the webcam.\n",
    "\n",
    "    imgname = os.path.join(IMAGES_PATH, label, label+'.'+'{}.jpeg'.format(str(uuid.uuid1()))): Constructs a unique filename for each image based on the label and a UUID (Universally Unique Identifier). The images are saved in the directory corresponding to the label.\n",
    "\n",
    "    cv2.imwrite(imgname, frame): Writes the captured frame as an image file.\n",
    "\n",
    "    cv2.imshow('frame', frame): Displays the captured frame.\n",
    "\n",
    "    time.sleep(2): Pauses for 2 seconds between capturing each image.\n",
    "\n",
    "\n",
    "\n",
    "\n",
    "## cv2.waitKey(1): \n",
    "This function waits for a key event to occur for the specified delay time (1 millisecond in this case) and returns the ASCII value of the pressed key. If no key is pressed during the specified time, it returns -1.\n",
    "\n",
    "## & 0xFF: \n",
    "This part of the expression is a bitwise AND operation with the hexadecimal value 0xFF (which is 255 in decimal). This operation is used to mask the least significant 8 bits of the ASCII value, ignoring any higher bits.\n",
    "\n",
    "## == ord('q'): \n",
    "This part of the expression checks if the masked ASCII value is equal to the ASCII value of the letter 'q'. The ord() function returns the ASCII value of the specified character.\n",
    "\n",
    "So, the entire expression is checking whether the key pressed is 'q'. If the condition is true, then code inside the corresponding if statement will be executed. ### This is commonly used for breaking out of a loop or exiting a program when the user presses the 'q' key."
   ]
  },
  {
   "cell_type": "code",
   "execution_count": 7,
   "id": "1e2d97a9",
   "metadata": {},
   "outputs": [
    {
     "name": "stdout",
     "output_type": "stream",
     "text": [
      "Collecting Images for hello\n",
      "Collecting image 0\n",
      "Collecting image 1\n",
      "Collecting image 2\n",
      "Collecting image 3\n",
      "Collecting image 4\n",
      "Collecting Images for howareyou\n",
      "Collecting image 0\n",
      "Collecting image 1\n",
      "Collecting image 2\n",
      "Collecting image 3\n",
      "Collecting image 4\n",
      "Collecting Images for vaibhav\n",
      "Collecting image 0\n",
      "Collecting image 1\n",
      "Collecting image 2\n",
      "Collecting image 3\n",
      "Collecting image 4\n"
     ]
    }
   ],
   "source": [
    "## Collecting images in real time\n",
    "for label in labels:\n",
    "    directory_path = os.path.join(IMAGES_PATH, label)\n",
    "    os.system(f\"mkdir \\\"{directory_path}\\\"\")\n",
    "    cap = cv2.VideoCapture(0)\n",
    "    print('Collecting Images for {}'.format(label))\n",
    "    time.sleep(5)\n",
    "    for imgnum in range(50):\n",
    "        print('Collecting image {}'.format(imgnum))\n",
    "        ret, frame = cap.read()\n",
    "        imgname = os.path.join(IMAGES_PATH, label,label+'.'+'{}.jpeg'.format(str(uuid.uuid1())))\n",
    "        cv2.imwrite(imgname, frame)\n",
    "        cv2.imshow('frame', frame)\n",
    "        time.sleep(2)\n",
    "        \n",
    "        if cv2.waitKey(1) & 0xFF == ord('q'):\n",
    "            break\n",
    "    cap.release()\n",
    "                               \n",
    "        "
   ]
  },
  {
   "cell_type": "code",
   "execution_count": null,
   "id": "ffbc1bab",
   "metadata": {},
   "outputs": [],
   "source": []
  }
 ],
 "metadata": {
  "kernelspec": {
   "display_name": "Python 3",
   "language": "python",
   "name": "python3"
  },
  "language_info": {
   "codemirror_mode": {
    "name": "ipython",
    "version": 3
   },
   "file_extension": ".py",
   "mimetype": "text/x-python",
   "name": "python",
   "nbconvert_exporter": "python",
   "pygments_lexer": "ipython3",
   "version": "3.11.4"
  }
 },
 "nbformat": 4,
 "nbformat_minor": 5
}
